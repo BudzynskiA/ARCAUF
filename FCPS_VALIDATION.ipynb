{
 "cells": [
  {
   "cell_type": "code",
   "execution_count": 1,
   "id": "875a0f1b",
   "metadata": {},
   "outputs": [],
   "source": [
    "#Import needed library.\n",
    "import pandas as pd\n",
    "import numpy as np\n",
    "import joblib\n",
    "from sklearn.metrics import mean_squared_error, r2_score\n",
    "import matplotlib.pyplot as plt"
   ]
  },
  {
   "cell_type": "code",
   "execution_count": 2,
   "id": "145dc278",
   "metadata": {},
   "outputs": [],
   "source": [
    "df = pd.read_csv('FCPS_DATA_VALIDATION.csv',delimiter=',',header='infer')"
   ]
  },
  {
   "cell_type": "code",
   "execution_count": 3,
   "id": "aefea2a7",
   "metadata": {},
   "outputs": [],
   "source": [
    "# Delete data with no driving\n",
    "df = df[df['GPS_DISTANCE'] !=0]\n",
    "# Date\n",
    "df['WEEKDAY'] = pd.DatetimeIndex(df['DATE']).weekday\n",
    "df['MONTH'] = pd.DatetimeIndex(df['DATE']).month\n",
    "df['YEAR'] = pd.DatetimeIndex(df['DATE']).year\n",
    "# Supplement missing data\n",
    "df['CARGO_WEIGHT'] = df['CARGO_WEIGHT'].fillna((df['CARGO_WEIGHT'].mean()))"
   ]
  },
  {
   "cell_type": "code",
   "execution_count": 4,
   "id": "fdb8da7f",
   "metadata": {},
   "outputs": [],
   "source": [
    "df['START_MILEAGE'] = df['START_MILEAGE'].replace(' ','')\n",
    "df[\"START_MILEAGE\"] = df['START_MILEAGE'].astype(float)"
   ]
  },
  {
   "cell_type": "code",
   "execution_count": 5,
   "id": "717a8dd2",
   "metadata": {},
   "outputs": [],
   "source": [
    "from sklearn.model_selection import train_test_split\n",
    "from sklearn.metrics import mean_squared_error, r2_score\n",
    "import matplotlib.pyplot as plt\n",
    "# Separate features and labels\n",
    "X_new = df[['WEEKDAY','MONTH','YEAR','GPS_DISTANCE','START_MILEAGE','CARGO_WEIGHT','DRIVER_ID','DRIVER_YEAR_BORN','TRUCK_ID',\n",
    "'TRUCK_YEAR_PRODUCTION','KW','TRUCK_WEIGHT','MAX_TRUCK_TOTALWEIGHT','START_PLACE_ID','END_PLACE_ID','QTY_DRIVERS'\n",
    "]].values"
   ]
  },
  {
   "cell_type": "code",
   "execution_count": 6,
   "id": "9842dff2",
   "metadata": {},
   "outputs": [
    {
     "name": "stdout",
     "output_type": "stream",
     "text": [
      "MSE: 1601.9541033365042\n",
      "RMSE: 40.02441883821056\n",
      "R2: 0.5908581749206808\n"
     ]
    }
   ],
   "source": [
    "model = joblib.load('SPUF_LinearRegression.pkl')\n",
    "result = df['USED_FUEL']\n",
    "predictions = model.predict(X_new)\n",
    "mse = mean_squared_error(result, predictions)\n",
    "print(\"MSE:\", mse)\n",
    "rmse = np.sqrt(mse)\n",
    "print(\"RMSE:\", rmse)\n",
    "r2 = r2_score(result, predictions)\n",
    "print(\"R2:\", r2)"
   ]
  },
  {
   "cell_type": "code",
   "execution_count": 7,
   "id": "ec923b04",
   "metadata": {},
   "outputs": [
    {
     "name": "stdout",
     "output_type": "stream",
     "text": [
      "MSE: 1602.5449815833654\n",
      "RMSE: 40.031799629586544\n",
      "R2: 0.5907072636031737\n"
     ]
    }
   ],
   "source": [
    "model = joblib.load('FCPS_Ridge.pkl')\n",
    "result = df['USED_FUEL']\n",
    "predictions = model.predict(X_new)\n",
    "mse = mean_squared_error(result, predictions)\n",
    "print(\"MSE:\", mse)\n",
    "rmse = np.sqrt(mse)\n",
    "print(\"RMSE:\", rmse)\n",
    "r2 = r2_score(result, predictions)\n",
    "print(\"R2:\", r2)"
   ]
  },
  {
   "cell_type": "code",
   "execution_count": 8,
   "id": "b5d794c3",
   "metadata": {},
   "outputs": [
    {
     "name": "stdout",
     "output_type": "stream",
     "text": [
      "MSE: 1766.667616892081\n",
      "RMSE: 42.031745346726694\n",
      "R2: 0.5487900611020667\n"
     ]
    }
   ],
   "source": [
    "model = joblib.load('FCPS_ElasticNet.pkl')\n",
    "result = df['USED_FUEL']\n",
    "predictions = model.predict(X_new)\n",
    "mse = mean_squared_error(result, predictions)\n",
    "print(\"MSE:\", mse)\n",
    "rmse = np.sqrt(mse)\n",
    "print(\"RMSE:\", rmse)\n",
    "r2 = r2_score(result, predictions)\n",
    "print(\"R2:\", r2)"
   ]
  },
  {
   "cell_type": "code",
   "execution_count": 9,
   "id": "8cc4b3cd",
   "metadata": {},
   "outputs": [
    {
     "name": "stdout",
     "output_type": "stream",
     "text": [
      "MSE: 1581.3076996286675\n",
      "RMSE: 39.76565980376369\n",
      "R2: 0.5961313018328408\n"
     ]
    }
   ],
   "source": [
    "model = joblib.load('FCPS_Lars.pkl')\n",
    "result = df['USED_FUEL']\n",
    "predictions = model.predict(X_new)\n",
    "mse = mean_squared_error(result, predictions)\n",
    "print(\"MSE:\", mse)\n",
    "rmse = np.sqrt(mse)\n",
    "print(\"RMSE:\", rmse)\n",
    "r2 = r2_score(result, predictions)\n",
    "print(\"R2:\", r2)"
   ]
  },
  {
   "cell_type": "code",
   "execution_count": 10,
   "id": "6b601277",
   "metadata": {},
   "outputs": [
    {
     "name": "stdout",
     "output_type": "stream",
     "text": [
      "MSE: 1751.4251666453372\n",
      "RMSE: 41.850031859549844\n",
      "R2: 0.5526830090333743\n"
     ]
    }
   ],
   "source": [
    "model = joblib.load('FCPS_Lasso.pkl')\n",
    "result = df['USED_FUEL']\n",
    "predictions = model.predict(X_new)\n",
    "mse = mean_squared_error(result, predictions)\n",
    "print(\"MSE:\", mse)\n",
    "rmse = np.sqrt(mse)\n",
    "print(\"RMSE:\", rmse)\n",
    "r2 = r2_score(result, predictions)\n",
    "print(\"R2:\", r2)"
   ]
  },
  {
   "cell_type": "code",
   "execution_count": 11,
   "id": "4aeffb2a",
   "metadata": {},
   "outputs": [
    {
     "name": "stdout",
     "output_type": "stream",
     "text": [
      "MSE: 2527.2667251397306\n",
      "RMSE: 50.27192780409093\n",
      "R2: 0.35453174455354497\n"
     ]
    }
   ],
   "source": [
    "model = joblib.load('FCPS_LassoLars.pkl')\n",
    "result = df['USED_FUEL']\n",
    "predictions = model.predict(X_new)\n",
    "mse = mean_squared_error(result, predictions)\n",
    "print(\"MSE:\", mse)\n",
    "rmse = np.sqrt(mse)\n",
    "print(\"RMSE:\", rmse)\n",
    "r2 = r2_score(result, predictions)\n",
    "print(\"R2:\", r2)"
   ]
  },
  {
   "cell_type": "code",
   "execution_count": 12,
   "id": "a30e3824",
   "metadata": {},
   "outputs": [
    {
     "name": "stdout",
     "output_type": "stream",
     "text": [
      "MSE: 1686.1223654618948\n",
      "RMSE: 41.06242035562315\n",
      "R2: 0.5693614564391631\n"
     ]
    }
   ],
   "source": [
    "model = joblib.load('FCPS_LassoLarsIC.pkl')\n",
    "result = df['USED_FUEL']\n",
    "predictions = model.predict(X_new)\n",
    "mse = mean_squared_error(result, predictions)\n",
    "print(\"MSE:\", mse)\n",
    "rmse = np.sqrt(mse)\n",
    "print(\"RMSE:\", rmse)\n",
    "r2 = r2_score(result, predictions)\n",
    "print(\"R2:\", r2)"
   ]
  },
  {
   "cell_type": "code",
   "execution_count": 13,
   "id": "de4048b8",
   "metadata": {},
   "outputs": [
    {
     "name": "stdout",
     "output_type": "stream",
     "text": [
      "MSE: 2038.1902314541524\n",
      "RMSE: 45.14632024267485\n",
      "R2: 0.4794427197263952\n"
     ]
    }
   ],
   "source": [
    "model = joblib.load('FCPS_OrthogonalMatchingPursuit.pkl')\n",
    "result = df['USED_FUEL']\n",
    "predictions = model.predict(X_new)\n",
    "mse = mean_squared_error(result, predictions)\n",
    "print(\"MSE:\", mse)\n",
    "rmse = np.sqrt(mse)\n",
    "print(\"RMSE:\", rmse)\n",
    "r2 = r2_score(result, predictions)\n",
    "print(\"R2:\", r2)"
   ]
  },
  {
   "cell_type": "code",
   "execution_count": 14,
   "id": "0384fae8",
   "metadata": {},
   "outputs": [
    {
     "name": "stdout",
     "output_type": "stream",
     "text": [
      "MSE: 1959.9747689848923\n",
      "RMSE: 44.271602286170896\n",
      "R2: 0.4994190829676671\n"
     ]
    }
   ],
   "source": [
    "model = joblib.load('FCPS_OrthogonalMatchingPursuitCV.pkl')\n",
    "result = df['USED_FUEL']\n",
    "predictions = model.predict(X_new)\n",
    "mse = mean_squared_error(result, predictions)\n",
    "print(\"MSE:\", mse)\n",
    "rmse = np.sqrt(mse)\n",
    "print(\"RMSE:\", rmse)\n",
    "r2 = r2_score(result, predictions)\n",
    "print(\"R2:\", r2)"
   ]
  },
  {
   "cell_type": "code",
   "execution_count": 15,
   "id": "c9780030",
   "metadata": {},
   "outputs": [
    {
     "name": "stdout",
     "output_type": "stream",
     "text": [
      "MSE: 2037.815467133649\n",
      "RMSE: 45.14216949963359\n",
      "R2: 0.47953843517651074\n"
     ]
    }
   ],
   "source": [
    "model = joblib.load('FCPS_ARDRegression.pkl')\n",
    "result = df['USED_FUEL']\n",
    "predictions = model.predict(X_new)\n",
    "mse = mean_squared_error(result, predictions)\n",
    "print(\"MSE:\", mse)\n",
    "rmse = np.sqrt(mse)\n",
    "print(\"RMSE:\", rmse)\n",
    "r2 = r2_score(result, predictions)\n",
    "print(\"R2:\", r2)"
   ]
  },
  {
   "cell_type": "code",
   "execution_count": 16,
   "id": "688a2763",
   "metadata": {},
   "outputs": [
    {
     "name": "stdout",
     "output_type": "stream",
     "text": [
      "MSE: 1788.8142592202107\n",
      "RMSE: 42.2943762126859\n",
      "R2: 0.5431337706736221\n"
     ]
    }
   ],
   "source": [
    "model = joblib.load('FCPS_BayesianRidge.pkl')\n",
    "result = df['USED_FUEL']\n",
    "predictions = model.predict(X_new)\n",
    "mse = mean_squared_error(result, predictions)\n",
    "print(\"MSE:\", mse)\n",
    "rmse = np.sqrt(mse)\n",
    "print(\"RMSE:\", rmse)\n",
    "r2 = r2_score(result, predictions)\n",
    "print(\"R2:\", r2)"
   ]
  },
  {
   "cell_type": "code",
   "execution_count": 17,
   "id": "2f518e21",
   "metadata": {},
   "outputs": [
    {
     "name": "stdout",
     "output_type": "stream",
     "text": [
      "MSE: 1831.4377928740553\n",
      "RMSE: 42.79530106067786\n",
      "R2: 0.5322476470860973\n"
     ]
    }
   ],
   "source": [
    "model = joblib.load('FCPS_RANSACRegressor.pkl')\n",
    "result = df['USED_FUEL']\n",
    "predictions = model.predict(X_new)\n",
    "mse = mean_squared_error(result, predictions)\n",
    "print(\"MSE:\", mse)\n",
    "rmse = np.sqrt(mse)\n",
    "print(\"RMSE:\", rmse)\n",
    "r2 = r2_score(result, predictions)\n",
    "print(\"R2:\", r2)"
   ]
  },
  {
   "cell_type": "code",
   "execution_count": 18,
   "id": "e4515809",
   "metadata": {},
   "outputs": [
    {
     "name": "stdout",
     "output_type": "stream",
     "text": [
      "MSE: 2431.2379993233035\n",
      "RMSE: 49.30758561644753\n",
      "R2: 0.37905764580049317\n"
     ]
    }
   ],
   "source": [
    "model = joblib.load('FCPS_TweedieRegressor.pkl')\n",
    "result = df['USED_FUEL']\n",
    "predictions = model.predict(X_new)\n",
    "mse = mean_squared_error(result, predictions)\n",
    "print(\"MSE:\", mse)\n",
    "rmse = np.sqrt(mse)\n",
    "print(\"RMSE:\", rmse)\n",
    "r2 = r2_score(result, predictions)\n",
    "print(\"R2:\", r2)"
   ]
  },
  {
   "cell_type": "code",
   "execution_count": null,
   "id": "fc0989eb",
   "metadata": {},
   "outputs": [],
   "source": []
  }
 ],
 "metadata": {
  "kernelspec": {
   "display_name": "Python 3",
   "language": "python",
   "name": "python3"
  },
  "language_info": {
   "codemirror_mode": {
    "name": "ipython",
    "version": 3
   },
   "file_extension": ".py",
   "mimetype": "text/x-python",
   "name": "python",
   "nbconvert_exporter": "python",
   "pygments_lexer": "ipython3",
   "version": "3.8.8"
  }
 },
 "nbformat": 4,
 "nbformat_minor": 5
}
